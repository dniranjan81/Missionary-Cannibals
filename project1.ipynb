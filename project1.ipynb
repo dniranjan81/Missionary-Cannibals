{
 "cells": [
  {
   "cell_type": "code",
   "execution_count": 1,
   "metadata": {},
   "outputs": [
    {
     "name": "stdout",
     "output_type": "stream",
     "text": [
      "You Quit. Game Over!\n"
     ]
    }
   ],
   "source": [
    "# result\n",
    "# 👹= 0 🌊= 0 |-----🚢| 👹= 3 🌊= 3\n",
    "# 👹= 0 🌊= 2 |🚢------| 👹= 3 🌊= 1\n",
    "# 👹= 0 🌊= 1 |-----🚢| 👹= 3 🌊= 2\n",
    "# 👹= 0 🌊= 3 |🚢------| 👹= 3 🌊= 0\n",
    "# 👹= 0 🌊= 2 |-----🚢| 👹= 3 🌊= 1\n",
    "# 👹= 2 🌊= 2 |🚢------| 👹= 1 🌊= 1\n",
    "# 👹= 1 🌊= 1 |-----🚢| 👹= 2 🌊= 2\n",
    "# 👹= 3 🌊= 1 |🚢------| 👹= 0 🌊= 2\n",
    "# 👹= 3 🌊= 0 |-----🚢| 👹= 0 🌊= 3\n",
    "# 👹= 3 🌊= 2 |🚢------| 👹= 0 🌊= 1\n",
    "# 👹= 3 🌊= 1 |-----🚢| 👹= 0 🌊= 2\n",
    "# 👹= 3 🌊= 3 |🚢------| 👹= 0 🌊= 0\n",
    "# You win\n",
    "\n",
    "boat_side = 'Right'\n",
    "missionaries_on_right = 3\n",
    "cannibals_on_right = 3 \n",
    "missionaries_on_left = 0\n",
    "cannibals_on_left = 0 \n",
    "\n",
    "print('\\U0001f479=',missionaries_on_left, '\\U0001f30a=',cannibals_on_left, '|-----\\U0001f6A2|', '\\U0001f479=',missionaries_on_right,'\\U0001f30a=',cannibals_on_right)\n",
    "\n",
    "while True:\n",
    "\n",
    "    missionaries = int(input('No of missionaries or enter 10 to quit : '))\n",
    "    if missionaries == 10:\n",
    "        print('You Quit. Game Over!')\n",
    "        break\n",
    "    cannibals = int(input('No of cannibals : '))\n",
    "\n",
    "    if (missionaries + cannibals) != 1 and (missionaries + cannibals) != 2:\n",
    "        print('Invalid Move')\n",
    "        continue\n",
    "\n",
    "\n",
    "    if boat_side == 'Right':\n",
    "        if missionaries_on_right < missionaries or cannibals_on_right < cannibals :\n",
    "            print('Invalid Move')\n",
    "\n",
    "        missionaries_on_right = missionaries_on_right - missionaries\n",
    "        cannibals_on_right = cannibals_on_right - cannibals\n",
    "\n",
    "        missionaries_on_left += missionaries\n",
    "        cannibals_on_left += cannibals\n",
    "        \n",
    "        print('\\U0001f479=',missionaries_on_left, '\\U0001f30a=',cannibals_on_left, '|\\U0001f6A2------|', '\\U0001f479=',missionaries_on_right,'\\U0001f30a=',cannibals_on_right)\n",
    "        \n",
    "        boat_side = 'Left'\n",
    "\n",
    "    else:\n",
    "        if missionaries_on_left < missionaries or cannibals_on_left < cannibals:\n",
    "            print('Invalid Move')\n",
    "            \n",
    "            \n",
    "        missionaries_on_left = missionaries_on_left - missionaries\n",
    "        cannibals_on_left = cannibals_on_left - cannibals\n",
    "\n",
    "        missionaries_on_right += missionaries\n",
    "        cannibals_on_right += cannibals\n",
    "        \n",
    "        print('\\U0001f479=',missionaries_on_left, '\\U0001f30a=',cannibals_on_left, '|-----\\U0001f6A2|', '\\U0001f479=',missionaries_on_right,'\\U0001f30a=',cannibals_on_right)\n",
    "        boat_side = 'Right'\n",
    "\n",
    "    if (missionaries_on_right < cannibals_on_right and missionaries_on_right > 0) or (missionaries_on_left < cannibals_on_left and missionaries_on_left > 0):\n",
    "        print('You Loose')\n",
    "        break\n",
    "\n",
    "    if(missionaries_on_left == 3 and cannibals_on_left == 3):\n",
    "        print('You win')\n",
    "        break"
   ]
  }
 ],
 "metadata": {
  "kernelspec": {
   "display_name": "Python 3 (ipykernel)",
   "language": "python",
   "name": "python3"
  },
  "language_info": {
   "codemirror_mode": {
    "name": "ipython",
    "version": 3
   },
   "file_extension": ".py",
   "mimetype": "text/x-python",
   "name": "python",
   "nbconvert_exporter": "python",
   "pygments_lexer": "ipython3",
   "version": "3.9.13"
  }
 },
 "nbformat": 4,
 "nbformat_minor": 2
}
